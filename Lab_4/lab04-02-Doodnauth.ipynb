{
 "cells": [
  {
   "cell_type": "code",
   "execution_count": 4,
   "id": "f03e7017",
   "metadata": {},
   "outputs": [
    {
     "name": "stdout",
     "output_type": "stream",
     "text": [
      "age         0\n",
      "sex         0\n",
      "cp          0\n",
      "trestbps    0\n",
      "chol        0\n",
      "fbs         0\n",
      "restecg     0\n",
      "thalach     0\n",
      "exang       0\n",
      "oldpeak     0\n",
      "slope       0\n",
      "ca          0\n",
      "thal        0\n",
      "target      0\n",
      "dtype: int64\n",
      "No missing values present \n",
      "\n",
      "<class 'pandas.core.frame.DataFrame'>\n",
      "RangeIndex: 303 entries, 0 to 302\n",
      "Data columns (total 14 columns):\n",
      " #   Column    Non-Null Count  Dtype  \n",
      "---  ------    --------------  -----  \n",
      " 0   age       303 non-null    int64  \n",
      " 1   sex       303 non-null    int64  \n",
      " 2   cp        303 non-null    int64  \n",
      " 3   trestbps  303 non-null    int64  \n",
      " 4   chol      303 non-null    int64  \n",
      " 5   fbs       303 non-null    int64  \n",
      " 6   restecg   303 non-null    int64  \n",
      " 7   thalach   303 non-null    int64  \n",
      " 8   exang     303 non-null    int64  \n",
      " 9   oldpeak   303 non-null    float64\n",
      " 10  slope     303 non-null    int64  \n",
      " 11  ca        303 non-null    int64  \n",
      " 12  thal      303 non-null    int64  \n",
      " 13  target    303 non-null    int64  \n",
      "dtypes: float64(1), int64(13)\n",
      "memory usage: 33.3 KB\n",
      "None\n",
      "No categorical values present \n",
      "\n",
      "The dataset is balanced\n"
     ]
    },
    {
     "data": {
      "image/png": "[encoded data removed]",
      "text/plain": [
       "<Figure size 640x480 with 1 Axes>"
      ]
     },
     "metadata": {},
     "output_type": "display_data"
    }
   ],
   "source": [
    "# 2.1 Preprocess the raw data\n",
    "\n",
    "#     Check whether there are missing values\n",
    "#     Check whether theare are cateogrical features\n",
    "#     Check whether this dataset is balanced or not (use the bar plot to visualize the number of positive and negative samples)\n",
    "\n",
    "import pandas as pd\n",
    "import numpy as np\n",
    "import matplotlib.pyplot as plt\n",
    "from sklearn.model_selection import train_test_split\n",
    "from sklearn import datasets\n",
    "from sklearn.preprocessing import StandardScaler\n",
    "from sklearn.linear_model import LogisticRegression\n",
    "from sklearn.metrics import accuracy_score\n",
    "from sklearn.metrics import f1_score\n",
    "from sklearn.metrics import recall_score\n",
    "from sklearn.metrics import precision_score\n",
    "from random import shuffle\n",
    "import random\n",
    "random.seed(123)\n",
    "\n",
    "df = pd.read_csv('heart.csv')\n",
    "\n",
    "\n",
    "print(df.isnull().sum())\n",
    "print('No missing values present \\n')\n",
    "\n",
    "print(df.info())\n",
    "print('No categorical values present \\n')\n",
    "\n",
    "plt.bar(df['target'].value_counts().index, df['target'].value_counts().values, tick_label=['Heart Disease', 'Healthy'])\n",
    "plt.title('Number of People With and Without Heart Disease')\n",
    "print('The dataset is balanced')"
   ]
  },
  {
   "cell_type": "code",
   "execution_count": 15,
   "id": "eb32f524",
   "metadata": {},
   "outputs": [
    {
     "name": "stdout",
     "output_type": "stream",
     "text": [
      "train_val: 260, test: 43\n"
     ]
    }
   ],
   "source": [
    "\n",
    "# 2.2 Split the data into two subsets and normalize the features of samples\n",
    "\n",
    "#     Split the dataset into the train_val set and testing set.\n",
    "#     Normalize features\n",
    "\n",
    "heartData = df.drop('target', axis=1).values\n",
    "heartDisease = df['target'].values\n",
    "X_train_val, X_test, y_train_val, y_test = train_test_split(heartData, heartDisease, \n",
    "                                                            test_size=0.14, \n",
    "                                                            random_state=0)\n",
    "\n",
    "print(\"train_val: {}, test: {}\".format(X_train_val.shape[0], X_test.shape[0]))\n",
    "\n",
    "normalizer = StandardScaler()\n",
    "X_train_val = normalizer.fit_transform(X_train_val)\n",
    "X_test = normalizer.transform(X_test)"
   ]
  },
  {
   "cell_type": "code",
   "execution_count": 17,
   "id": "2d7379c4",
   "metadata": {},
   "outputs": [
    {
     "name": "stdout",
     "output_type": "stream",
     "text": [
      "[[ 71 219 200  27 214 212 223  53 147  72 247   7 140  92  87 107 109 132\n",
      "   90 231 154  66 180 169 120 208]\n",
      " [163 210 178 151  65 160 206 244 108  91  17   8 165  96  99 238 185  74\n",
      "  203 259 126 125 137 122 121 162]\n",
      " [ 51  28 175 191 130 139 189 158 105  80 207  98   0 123 252 218 220  20\n",
      "  136  86  54  31  70 183  84 190]\n",
      " [113 117 194  22 144 193 215 201 100 101  82   1  13  11  67  73 250 182\n",
      "  133 228  29  15 128 199  61  63]\n",
      " [ 89  14 138 146  93  95 149  56  16 258  33 164   3  81  57  97 195 255\n",
      "   69 243   9 216 211 254  47  18]\n",
      " [176 186 131 104  23   2 230  52  38 187 143 166  64 237  19 173 181 141\n",
      "  253 103 221   4  45 242 198  30]\n",
      " [127 235 184 135 171 232 229  37 129 112  76  58 225  36 145 217 153 174\n",
      "  110 224 124 236   5 102  94 148]\n",
      " [245 115 249  78 172 226 240 241  26 167  60 168 155 227 134 142  24 202\n",
      "  111 118  44  21  55 248 233  62]\n",
      " [ 25  10  83 251 205 170 159  85 257  40  46   6 114 234  49 196  79 222\n",
      "  192  12 152 246  48  75  50 209]\n",
      " [156  59 157  68 116  41  39 106  77 204  35 256 150 179  88  43  34 239\n",
      "  161 177 119 188  32 197  42 213]]\n",
      "reg_coeff: 99999.99999999999, acc: 0.554\n",
      "reg_coeff: 10000.0, acc: 0.554\n",
      "reg_coeff: 1000.0, acc: 0.692\n",
      "reg_coeff: 100.0, acc: 0.831\n",
      "reg_coeff: 10.0, acc: 0.827\n",
      "reg_coeff: 1.0, acc: 0.823\n",
      "reg_coeff: 0.1, acc: 0.819\n",
      "reg_coeff: 0.05, acc: 0.819\n",
      "reg_coeff: 0.02, acc: 0.819\n",
      "reg_coeff: 0.01, acc: 0.819\n",
      "The most accurate hyperparameter is 0.01\n"
     ]
    }
   ],
   "source": [
    "# 1.3 Train the logistic regression model and select the hyperparameter with cross-validation\n",
    "\n",
    "# Here, we use the following logistic regression model to do cancer classification.\n",
    "# We need to learn the model parameter . However, with different hyperparameters , we can get different model parameter,\n",
    "# resulting in different prediction performance. Here, we use the 5-fold cross-validation to select the hyperparameter.\n",
    "\n",
    "# here we use 10-fold cross-validation\n",
    "folds = 10\n",
    "\n",
    "# get the number of samples in the training and validation set\n",
    "num_train_val = X_train_val.shape[0] \n",
    "\n",
    "# shuffle the index of samples in the train_val set\n",
    "index_of_samples = np.arange(num_train_val) \n",
    "shuffle(index_of_samples)\n",
    "\n",
    "# split the index of the train_valid set into 5 folds\n",
    "index_of_folds = index_of_samples.reshape(folds, -1)\n",
    "print(index_of_folds)\n",
    "\n",
    "# potential hyperparameters. \n",
    "#These hyperparameters are just used for illustration. \n",
    "#You should try more hyperparameters to get a good model.\n",
    "#The hyperparameters must be nonnegative!\n",
    "regularization_coefficient = [0.00001, 0.0001, 0.001, 0.01, 0.1, 1.0, 10, 20, 50, 100]\n",
    "\n",
    "best_acc = 0.0\n",
    "best_reg = 0.0\n",
    "\n",
    "for reg in regularization_coefficient:\n",
    "    \n",
    "    # 10-fold cross-validation\n",
    "    sum_acc = 0.0\n",
    "    for fold in range(folds):\n",
    "        \n",
    "        index_of_folds_temp = index_of_folds.copy()\n",
    "        \n",
    "        valid_index = index_of_folds_temp[fold,:].reshape(-1) #get the index of the validation set\n",
    "        train_index = np.delete(index_of_folds_temp, fold, 0).reshape(-1) #get the index of the training set\n",
    "        \n",
    "        # training set\n",
    "        X_train = X_train_val[train_index]\n",
    "        y_train = y_train_val[train_index]\n",
    "        \n",
    "        # validation set\n",
    "        X_valid = X_train_val[valid_index]\n",
    "        y_valid = y_train_val[valid_index]\n",
    "                \n",
    "        # build the model with different hyperparameters\n",
    "        clf = LogisticRegression(penalty='l2', C=reg, solver='lbfgs')\n",
    "        \n",
    "        #train the model with the training set\n",
    "        clf.fit(X_train, y_train)\n",
    "        \n",
    "        y_valid_pred = clf.predict(X_valid)\n",
    "        acc = accuracy_score(y_valid, y_valid_pred)\n",
    "        \n",
    "        sum_acc += acc\n",
    "    \n",
    "    cur_acc = sum_acc / folds\n",
    "    \n",
    "    print(\"reg_coeff: {}, acc: {:.3f}\".format(1.0/reg, cur_acc))\n",
    "    \n",
    "    # store the best hyperparameter\n",
    "    if cur_acc > best_acc:\n",
    "        best_acc = cur_acc\n",
    "        best_reg = reg\n",
    "        \n",
    "print('The most accurate hyperparameter is ' + str(best_reg))"
   ]
  },
  {
   "cell_type": "code",
   "execution_count": 18,
   "id": "90b47423",
   "metadata": {},
   "outputs": [
    {
     "name": "stdout",
     "output_type": "stream",
     "text": [
      "accuracy: 0.791, recall: 0.905, precision: 0.731, f1: 0.809,\n"
     ]
    },
    {
     "data": {
      "text/plain": [
       "Text(0.5, 1.0, 'Learned Model Parameters')"
      ]
     },
     "execution_count": 18,
     "metadata": {},
     "output_type": "execute_result"
    },
    {
     "data": {
      "image/png": "[encoded data removed]",
      "text/plain": [
       "<Figure size 1000x800 with 1 Axes>"
      ]
     },
     "metadata": {},
     "output_type": "display_data"
    }
   ],
   "source": [
    "\n",
    "# 2.4 Evaluate the learned model\n",
    "\n",
    "#     Report the prediction accuracy, recall, precision, and F1 score.\n",
    "\n",
    "#     Use the bar plot to visulaize the elements of the learned model parameter vector \n",
    "\n",
    "# . Some elements have larger absolute values, while the others do not. Try to explain this phenomenon.\n",
    "\n",
    "# retrain the model\n",
    "clf = LogisticRegression(penalty='l2', C=best_reg, solver='lbfgs')\n",
    "clf.fit(X_train_val, y_train_val)\n",
    "\n",
    "# evaluate the model on the testing set\n",
    "y_test_pred = clf.predict(X_test)\n",
    "\n",
    "\n",
    "acc = accuracy_score(y_test, y_test_pred)\n",
    "f1 = f1_score(y_test, y_test_pred)\n",
    "recall = recall_score(y_test, y_test_pred)\n",
    "precision = precision_score(y_test, y_test_pred)\n",
    "\n",
    "\n",
    "print(\"accuracy: {:.3f}, recall: {:.3f}, precision: {:.3f}, f1: {:.3f},\".format(acc, recall, precision, f1))\n",
    "\n",
    "fig = plt.figure(1, [10, 8])\n",
    "plt.bar(df.columns[:-1], clf.coef_[0], figure=fig)\n",
    "plt.title('Learned Model Parameters')"
   ]
  },
  {
   "cell_type": "code",
   "execution_count": 26,
   "id": "effd1ec9",
   "metadata": {},
   "outputs": [
    {
     "name": "stdout",
     "output_type": "stream",
     "text": [
      "The elements that contain the larger absolute values are those that influence the prediction the most. By this, I mean that the there is a positive correlation between the magnitude of the variable and the effect it has on the prediction. For example, it is seen that chest pain \"cp,\" has a strong correlation with predicted heart disease. This makes sense because chest pain is a common symptom of heart disease, as well as the number of major vessels \"ca,\" which also majorly factors into heart disease. Furthermore, those that have the relatively smaller absolute values are those that do not have as much of an effect on the prediction. This is because the data does not show a correlation between the two, as seen with fasting blood sugar, \"fbs.\" The fbs is not very indicative of heart disease in an individual, and it is mainly used to screen for diabetes and other related diseases, so it makes sense that its absolute value is not as large.\n"
     ]
    }
   ],
   "source": [
    "print('The elements that contain the larger absolute values are those that influence the prediction the most. '\n",
    "     'By this, I mean that the there is a positive correlation between the magnitude of the variable and the effect it has on the prediction.'\n",
    "     ' For example, it is seen that chest pain \"cp,\" has a strong correlation with predicted heart disease. '\n",
    "     'This makes sense because chest pain is a common symptom of heart disease, as well as the number of major vessels \"ca,\" which also majorly factors into heart disease.'\n",
    "     ' Furthermore, those that have the relatively smaller absolute values are those that do not have as much of an effect on the prediction. '\n",
    "     'This is because the data does not show a correlation between the two, as seen with fasting blood sugar, \"fbs.\"'\n",
    "     ' The fbs is not very indicative of heart disease in an individual, and it is mainly used to screen for diabetes and other related diseases, so it makes sense that its absolute value is not as large.')"
   ]
  }
 ],
 "metadata": {
  "kernelspec": {
   "display_name": "Python 3 (ipykernel)",
   "language": "python",
   "name": "python3"
  },
  "language_info": {
   "codemirror_mode": {
    "name": "ipython",
    "version": 3
   },
   "file_extension": ".py",
   "mimetype": "text/x-python",
   "name": "python",
   "nbconvert_exporter": "python",
   "pygments_lexer": "ipython3",
   "version": "3.9.6"
  }
 },
 "nbformat": 4,
 "nbformat_minor": 5
}

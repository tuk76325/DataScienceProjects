{
 "cells": [
  {
   "cell_type": "code",
   "execution_count": 1,
   "id": "e12dabe8",
   "metadata": {},
   "outputs": [],
   "source": [
    "# In this task, we are going to use BBCNews dataset. There are 1490 articles from 5 topics, including tech, business, sport, entertainment, politics.\n",
    "\n",
    "#     Task 1: Please use KNN and logistic regression to do classification, and compare their performance.\n",
    "\n",
    "#     Task 2: Please use K-means to partition this dataset into 5 clusters and find the representative words in each cluster.\n"
   ]
  },
  {
   "cell_type": "code",
   "execution_count": 2,
   "id": "d776a1bd",
   "metadata": {},
   "outputs": [
    {
     "name": "stdout",
     "output_type": "stream",
     "text": [
      "Train data target names: ['politics' 'business' 'tech' 'entertainment' 'sport']\n",
      "Training samples: 1266\n",
      "Testing samples: 224\n",
      "(1266, 22758) (224, 22758)\n"
     ]
    }
   ],
   "source": [
    "# 2.1 Load data and represent it with TF-IDF representation\n",
    "\n",
    "import numpy as np\n",
    "import pandas as pd\n",
    "import matplotlib.pyplot as plt\n",
    "from sklearn.model_selection import train_test_split, GridSearchCV\n",
    "from sklearn.feature_extraction.text import TfidfVectorizer\n",
    "from sklearn.neighbors import KNeighborsClassifier\n",
    "from sklearn.metrics import accuracy_score, f1_score\n",
    "from sklearn.linear_model import LogisticRegression\n",
    "from sklearn.cluster import KMeans\n",
    "\n",
    "df = pd.read_csv('BBC_News_Train.csv')\n",
    "\n",
    "df_train, df_test = train_test_split(df, test_size=0.15)\n",
    "\n",
    "print(\"Train data target names: {}\".format(df_train['Category'].unique()))\n",
    "\n",
    "print('Training samples: {}'.format(len(df_train)))\n",
    "print('Testing samples: {}'.format(len(df_test)))\n",
    "\n",
    "\n",
    "tfidf = TfidfVectorizer(stop_words='english')\n",
    "df_train_vectors = tfidf.fit_transform(df_train['Text'])\n",
    "df_test_vectors = tfidf.transform(df_test['Text']) \n",
    "\n",
    "print(df_train_vectors.shape, df_test_vectors.shape)"
   ]
  },
  {
   "cell_type": "code",
   "execution_count": 3,
   "id": "6205c407",
   "metadata": {},
   "outputs": [
    {
     "name": "stdout",
     "output_type": "stream",
     "text": [
      "0.9328654570352619\n",
      "{'n_neighbors': 4}\n"
     ]
    }
   ],
   "source": [
    "# 2.2 Use KNN to do document classification\n",
    "\n",
    "Xtrain = df_train_vectors\n",
    "Ytrain = df_train['Category']\n",
    "\n",
    "Xtest = df_test_vectors\n",
    "Ytest = df_test['Category']\n",
    "\n",
    "k_range = range(1, 5)\n",
    "param_grid = dict(n_neighbors=k_range)\n",
    "\n",
    "clf_knn =  KNeighborsClassifier()\n",
    "\n",
    "grid = GridSearchCV(clf_knn, param_grid, scoring='accuracy')\n",
    "grid.fit(Xtrain, Ytrain)\n",
    "\n",
    "print(grid.best_score_)\n",
    "print(grid.best_params_)\n",
    "\n"
   ]
  },
  {
   "cell_type": "code",
   "execution_count": 6,
   "id": "77c43b91",
   "metadata": {},
   "outputs": [
    {
     "name": "stdout",
     "output_type": "stream",
     "text": [
      "{'C': 6}\n",
      "Accuracy: 0.9821428571428571 | Macro F1: 0.9813431108060262 | Micro F1: 0.9821428571428571\n"
     ]
    }
   ],
   "source": [
    "# 2.3 Use Logistic Regression to do document classification\n",
    "\n",
    "coeff = range(1, 10)\n",
    "param_grid = dict(C=coeff)\n",
    "\n",
    "clf_lr = LogisticRegression(penalty='l2')\n",
    "\n",
    "grid = GridSearchCV(clf_lr, param_grid, scoring='accuracy')\n",
    "grid.fit(Xtrain, Ytrain)\n",
    "\n",
    "print(grid.best_params_)\n",
    "\n",
    "\n",
    "clf_lr = LogisticRegression(penalty='l2', C=grid.best_params_['C'])\n",
    "clf_lr.fit(Xtrain, Ytrain)\n",
    "\n",
    "y_pred = clf_lr.predict(Xtest)\n",
    "\n",
    "acc = accuracy_score(Ytest, y_pred)\n",
    "macro_f1 = f1_score(Ytest, y_pred, average='macro')\n",
    "micro_f1 = f1_score(Ytest, y_pred, average='micro')\n",
    "\n",
    "print('Accuracy: ' + str(acc) + ' | Macro F1: ' +  str(macro_f1) + ' | Micro F1: ' + str(micro_f1))"
   ]
  },
  {
   "cell_type": "code",
   "execution_count": 8,
   "id": "18453b60",
   "metadata": {},
   "outputs": [
    {
     "name": "stdout",
     "output_type": "stream",
     "text": [
      "Cluster 0:\n",
      " said\n",
      " mobile\n",
      " people\n",
      " music\n",
      " software\n",
      " users\n",
      " digital\n",
      " technology\n",
      " microsoft\n",
      " net\n",
      "Cluster 1:\n",
      " mr\n",
      " labour\n",
      " said\n",
      " blair\n",
      " election\n",
      " party\n",
      " government\n",
      " brown\n",
      " minister\n",
      " prime\n",
      "Cluster 2:\n",
      " said\n",
      " growth\n",
      " economy\n",
      " year\n",
      " mr\n",
      " company\n",
      " market\n",
      " bank\n",
      " sales\n",
      " economic\n",
      "Cluster 3:\n",
      " england\n",
      " game\n",
      " said\n",
      " win\n",
      " match\n",
      " chelsea\n",
      " team\n",
      " cup\n",
      " players\n",
      " season\n",
      "Cluster 4:\n",
      " film\n",
      " best\n",
      " awards\n",
      " band\n",
      " award\n",
      " actor\n",
      " said\n",
      " album\n",
      " star\n",
      " festival\n"
     ]
    },
    {
     "name": "stderr",
     "output_type": "stream",
     "text": [
      "C:\\Users\\Toshan\\AppData\\Local\\Programs\\Python\\Python39\\lib\\site-packages\\sklearn\\utils\\deprecation.py:87: FutureWarning: Function get_feature_names is deprecated; get_feature_names is deprecated in 1.0 and will be removed in 1.2. Please use get_feature_names_out instead.\n",
      "  warnings.warn(msg, category=FutureWarning)\n"
     ]
    }
   ],
   "source": [
    "# 2.4 Use K-means to do document clustering and find the 10 most representative words in each cluster.\n",
    "\n",
    "clf_kmeans = KMeans(n_clusters=5)\n",
    "y = clf_kmeans.fit(Xtrain)\n",
    "terms = tfidf.get_feature_names()\n",
    "order_centroids = clf_kmeans.cluster_centers_.argsort()[:, ::-1]\n",
    "for i in range(5):\n",
    "     print(\"Cluster %d:\" % i)\n",
    "     for ind in order_centroids[i, :10]:\n",
    "         print(' %s' % terms[ind])"
   ]
  }
 ],
 "metadata": {
  "kernelspec": {
   "display_name": "Python 3 (ipykernel)",
   "language": "python",
   "name": "python3"
  },
  "language_info": {
   "codemirror_mode": {
    "name": "ipython",
    "version": 3
   },
   "file_extension": ".py",
   "mimetype": "text/x-python",
   "name": "python",
   "nbconvert_exporter": "python",
   "pygments_lexer": "ipython3",
   "version": "3.9.6"
  }
 },
 "nbformat": 4,
 "nbformat_minor": 5
}

{
 "cells": [
  {
   "cell_type": "code",
   "execution_count": 6,
   "id": "f79f9921",
   "metadata": {},
   "outputs": [
    {
     "name": "stdout",
     "output_type": "stream",
     "text": [
      "age         0\n",
      "sex         0\n",
      "cp          0\n",
      "trestbps    0\n",
      "chol        0\n",
      "fbs         0\n",
      "restecg     0\n",
      "thalach     0\n",
      "exang       0\n",
      "oldpeak     0\n",
      "slope       0\n",
      "ca          0\n",
      "thal        0\n",
      "target      0\n",
      "dtype: int64\n",
      "\n",
      "There are no missing values\n",
      "\n",
      "<class 'pandas.core.frame.DataFrame'>\n",
      "RangeIndex: 303 entries, 0 to 302\n",
      "Data columns (total 14 columns):\n",
      " #   Column    Non-Null Count  Dtype  \n",
      "---  ------    --------------  -----  \n",
      " 0   age       303 non-null    int64  \n",
      " 1   sex       303 non-null    int64  \n",
      " 2   cp        303 non-null    int64  \n",
      " 3   trestbps  303 non-null    int64  \n",
      " 4   chol      303 non-null    int64  \n",
      " 5   fbs       303 non-null    int64  \n",
      " 6   restecg   303 non-null    int64  \n",
      " 7   thalach   303 non-null    int64  \n",
      " 8   exang     303 non-null    int64  \n",
      " 9   oldpeak   303 non-null    float64\n",
      " 10  slope     303 non-null    int64  \n",
      " 11  ca        303 non-null    int64  \n",
      " 12  thal      303 non-null    int64  \n",
      " 13  target    303 non-null    int64  \n",
      "dtypes: float64(1), int64(13)\n",
      "memory usage: 33.3 KB\n",
      "None\n",
      "\n",
      "There are no categorical values\n",
      "\n",
      "\n",
      "The dataset is balanced\n",
      "\n"
     ]
    },
    {
     "data": {
      "image/png": "[encoded data removed]",
      "text/plain": [
       "<Figure size 640x480 with 1 Axes>"
      ]
     },
     "metadata": {},
     "output_type": "display_data"
    }
   ],
   "source": [
    "# 2.1 Preprocess the raw data\n",
    "\n",
    "#     Check whether there are missing values\n",
    "#     Check whether theare are cateogrical features\n",
    "#     Check whether this dataset is balanced or not (use the bar plot to visualize the number of positive and negative samples)\n",
    "\n",
    "import numpy as np\n",
    "import pandas as pd\n",
    "import matplotlib.pyplot as plt\n",
    "from sklearn.model_selection import train_test_split\n",
    "from sklearn import datasets\n",
    "from sklearn.preprocessing import StandardScaler\n",
    "from sklearn.model_selection import GridSearchCV\n",
    "from sklearn.neighbors import KNeighborsClassifier\n",
    "from sklearn.metrics import accuracy_score, f1_score\n",
    "from sklearn.metrics import f1_score\n",
    "from sklearn.metrics import recall_score\n",
    "from sklearn.metrics import precision_score\n",
    "\n",
    "df = pd.read_csv('heart.csv')\n",
    "\n",
    "print(df.isnull().sum())\n",
    "print('\\nThere are no missing values\\n')\n",
    "\n",
    "print(df.info())\n",
    "print('\\nThere are no categorical values\\n')\n",
    "\n",
    "plt.bar(df['target'].value_counts().index, df['target'].value_counts().values, tick_label=['Heart Disease', 'Healthy'])\n",
    "plt.title('Number of People With and Without Heart Disease')\n",
    "print('\\nThe dataset is balanced\\n')"
   ]
  },
  {
   "cell_type": "code",
   "execution_count": 8,
   "id": "b5712603",
   "metadata": {},
   "outputs": [
    {
     "name": "stdout",
     "output_type": "stream",
     "text": [
      "train_val: 260, test: 43\n"
     ]
    }
   ],
   "source": [
    "# 2.2 Split the data into two subsets and normalize the features of samples\n",
    "\n",
    "#     Split the dataset into the train_val set and testing set.\n",
    "#     Normalize features\n",
    "\n",
    "heartData = df.drop('target', axis=1).values\n",
    "heartDisease = df['target'].values\n",
    "X_train_val, X_test, y_train_val, y_test = train_test_split(heartData, heartDisease, \n",
    "                                                            test_size=0.14, \n",
    "                                                            random_state=0)\n",
    "\n",
    "print(\"train_val: {}, test: {}\".format(X_train_val.shape[0], X_test.shape[0]))\n",
    "\n",
    "normalizer = StandardScaler()\n",
    "X_train_val = normalizer.fit_transform(X_train_val)\n",
    "X_test = normalizer.transform(X_test)"
   ]
  },
  {
   "cell_type": "code",
   "execution_count": 10,
   "id": "f1928031",
   "metadata": {},
   "outputs": [
    {
     "name": "stdout",
     "output_type": "stream",
     "text": [
      "0.8038461538461539\n",
      "{'n_neighbors': 3}\n"
     ]
    }
   ],
   "source": [
    "\n",
    "# 2.3 Train the KNN model and select the hyperparameter with cross-validation\n",
    "\n",
    "#     Use the 5-fold cross-validation to select the hyperparameter K. \n",
    "#     Search K from {1, 2, 3, 4, 5}\n",
    "\n",
    "k_range = range(1, 5)\n",
    "param_grid = dict(n_neighbors=k_range)\n",
    "\n",
    "clf_knn =  KNeighborsClassifier(n_neighbors=1)\n",
    "\n",
    "grid = GridSearchCV(clf_knn, param_grid, cv=5, scoring='accuracy')\n",
    "grid.fit(X_train_val, y_train_val)\n",
    "\n",
    "print(grid.best_score_)\n",
    "print(grid.best_params_)"
   ]
  },
  {
   "cell_type": "code",
   "execution_count": 14,
   "id": "fd118ba7",
   "metadata": {},
   "outputs": [
    {
     "name": "stdout",
     "output_type": "stream",
     "text": [
      "accuracy: 0.837, recall: 0.857, precision: 0.818, f1: 0.837, micro f1: 0.837, macro f1 0.837\n"
     ]
    }
   ],
   "source": [
    "# 2.4 Evaluate the learned model\n",
    "\n",
    "#     Report the prediction accuracy, recall, precision, and F1 score.\n",
    "\n",
    "clf_knn =  KNeighborsClassifier(n_neighbors=grid.best_params_['n_neighbors'])\n",
    "clf_knn.fit(X_train_val, y_train_val)\n",
    "\n",
    "# evaluate the model on the testing set\n",
    "y_test_pred = clf_knn.predict(X_test)\n",
    "\n",
    "\n",
    "acc = accuracy_score(y_test, y_test_pred)\n",
    "f1 = f1_score(y_test, y_test_pred)\n",
    "macro_f1 = f1_score(y_test, y_test_pred, average='macro')\n",
    "micro_f1 = f1_score(y_test, y_test_pred, average='micro')\n",
    "recall = recall_score(y_test, y_test_pred)\n",
    "precision = precision_score(y_test, y_test_pred)\n",
    "\n",
    "\n",
    "print(\"accuracy: {:.3f}, recall: {:.3f}, precision: {:.3f}, f1: {:.3f}, micro f1: {:.3f}, macro f1: {:.3f}\".format(acc, recall, precision, f1, micro_f1, macro_f1))\n",
    "\n"
   ]
  },
  {
   "cell_type": "code",
   "execution_count": null,
   "id": "59dec788",
   "metadata": {},
   "outputs": [],
   "source": []
  }
 ],
 "metadata": {
  "kernelspec": {
   "display_name": "Python 3 (ipykernel)",
   "language": "python",
   "name": "python3"
  },
  "language_info": {
   "codemirror_mode": {
    "name": "ipython",
    "version": 3
   },
   "file_extension": ".py",
   "mimetype": "text/x-python",
   "name": "python",
   "nbconvert_exporter": "python",
   "pygments_lexer": "ipython3",
   "version": "3.9.6"
  }
 },
 "nbformat": 4,
 "nbformat_minor": 5
}

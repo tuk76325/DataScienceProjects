{
 "cells": [
  {
   "cell_type": "code",
   "execution_count": 2,
   "id": "aa727609",
   "metadata": {},
   "outputs": [
    {
     "name": "stdout",
     "output_type": "stream",
     "text": [
      "age         0\n",
      "sex         0\n",
      "cp          0\n",
      "trestbps    0\n",
      "chol        0\n",
      "fbs         0\n",
      "restecg     0\n",
      "thalach     0\n",
      "exang       0\n",
      "oldpeak     0\n",
      "slope       0\n",
      "ca          0\n",
      "thal        0\n",
      "target      0\n",
      "dtype: int64\n",
      "\n",
      "There are no missing values\n",
      "\n",
      "<class 'pandas.core.frame.DataFrame'>\n",
      "RangeIndex: 303 entries, 0 to 302\n",
      "Data columns (total 14 columns):\n",
      " #   Column    Non-Null Count  Dtype  \n",
      "---  ------    --------------  -----  \n",
      " 0   age       303 non-null    int64  \n",
      " 1   sex       303 non-null    int64  \n",
      " 2   cp        303 non-null    int64  \n",
      " 3   trestbps  303 non-null    int64  \n",
      " 4   chol      303 non-null    int64  \n",
      " 5   fbs       303 non-null    int64  \n",
      " 6   restecg   303 non-null    int64  \n",
      " 7   thalach   303 non-null    int64  \n",
      " 8   exang     303 non-null    int64  \n",
      " 9   oldpeak   303 non-null    float64\n",
      " 10  slope     303 non-null    int64  \n",
      " 11  ca        303 non-null    int64  \n",
      " 12  thal      303 non-null    int64  \n",
      " 13  target    303 non-null    int64  \n",
      "dtypes: float64(1), int64(13)\n",
      "memory usage: 33.3 KB\n",
      "None\n",
      "\n",
      "There are no categorical values\n",
      "\n"
     ]
    }
   ],
   "source": [
    "import pandas as pd\n",
    "import numpy as np\n",
    "import matplotlib.pyplot as plt\n",
    "from sklearn.preprocessing import StandardScaler\n",
    "\n",
    "df = pd.read_csv('heart.csv')\n",
    "\n",
    "print(df.isnull().sum())\n",
    "print('\\nThere are no missing values\\n')\n",
    "\n",
    "print(df.info())\n",
    "print('\\nThere are no categorical values\\n')\n",
    "\n",
    "heartData = df.drop('target', axis=1)\n",
    "\n",
    "normalizer = StandardScaler()\n",
    "heartData = normalizer.fit_transform(heartData)"
   ]
  },
  {
   "cell_type": "code",
   "execution_count": 3,
   "id": "0c72ce2f",
   "metadata": {},
   "outputs": [
    {
     "name": "stdout",
     "output_type": "stream",
     "text": [
      "The normalized mutual information score of the K-means method is 0.3234\n"
     ]
    }
   ],
   "source": [
    "# 2.2 Partition the dataset with K-means and compute its NMI\n",
    "\n",
    "from sklearn.cluster import KMeans\n",
    "from sklearn.cluster import AgglomerativeClustering\n",
    "from sklearn import datasets\n",
    "from sklearn.metrics.cluster import normalized_mutual_info_score\n",
    "\n",
    "cluster = KMeans(n_clusters=2).fit(heartData)\n",
    "\n",
    "nmi = normalized_mutual_info_score(cluster.labels_, df['target'], average_method='arithmetic')\n",
    "print('Normalized mutual information score of the K-means method is {:.4f}'.format(nmi))"
   ]
  },
  {
   "cell_type": "code",
   "execution_count": 4,
   "id": "7c09e76c",
   "metadata": {},
   "outputs": [
    {
     "name": "stdout",
     "output_type": "stream",
     "text": [
      "The normalized mutual information score of the Agglomerative method  is 0.1979\n"
     ]
    }
   ],
   "source": [
    "# 2.3 Partition the dataset with Agglomerative method and compute its NMI\n",
    "\n",
    "cluster = AgglomerativeClustering(n_clusters=2).fit(heartData)\n",
    "\n",
    "nmi = normalized_mutual_info_score(cluster.labels_, df['target'], average_method='arithmetic')\n",
    "print('Normalized mutual information score of the Agglomerative method  is {:.4f}'.format(nmi))"
   ]
  }
 ],
 "metadata": {
  "kernelspec": {
   "display_name": "Python 3 (ipykernel)",
   "language": "python",
   "name": "python3"
  },
  "language_info": {
   "codemirror_mode": {
    "name": "ipython",
    "version": 3
   },
   "file_extension": ".py",
   "mimetype": "text/x-python",
   "name": "python",
   "nbconvert_exporter": "python",
   "pygments_lexer": "ipython3",
   "version": "3.9.6"
  }
 },
 "nbformat": 4,
 "nbformat_minor": 5
}
